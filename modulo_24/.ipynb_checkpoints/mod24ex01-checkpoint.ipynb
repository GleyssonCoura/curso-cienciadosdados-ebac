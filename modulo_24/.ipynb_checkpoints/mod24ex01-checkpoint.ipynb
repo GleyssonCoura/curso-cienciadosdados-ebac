{
 "cells": [
  {
   "cell_type": "markdown",
   "metadata": {},
   "source": [
    "#### 1. 5 diferenças entre Random Forest e AdaBoost"
   ]
  },
  {
   "cell_type": "markdown",
   "metadata": {},
   "source": [
    "- Amostragem dos dados: bootstrapping aggregation no RF, enquanto que no AB se usa pesos para aumentar a probabilidade de se selecionar os 'dados problemáticos' no bootstrap;\n",
    "- Floresta de árvores para avaliar cada conjunto de dados separadamente no RF e floresta de stumps no AB em que se utiliza o stump anterior como informação para o próximo stump;\n",
    "- Árvores independentes para cada subconjunto de dados no RF e stumps dependentes entre si no AB;\n",
    "- Classificação do conjunto (variáveis explicativas, variável resposta) com pesos iguais no RF, mas utilização de pesos para elencar os conjuntos (variáveis explicativas, variável resposta) problemáticos no AB;\n",
    "- Modelos individuais para cada subconjunto de dados no RF, enquanto que no AB há um stump que origina os demais."
   ]
  },
  {
   "cell_type": "markdown",
   "metadata": {},
   "source": [
    "#### 2. Exemplo AdaBoost"
   ]
  },
  {
   "cell_type": "code",
   "execution_count": 1,
   "metadata": {},
   "outputs": [
    {
     "data": {
      "text/plain": [
       "0.9466666666666665"
      ]
     },
     "execution_count": 1,
     "metadata": {},
     "output_type": "execute_result"
    }
   ],
   "source": [
    "from sklearn.model_selection import cross_val_score\n",
    "from sklearn.datasets import load_iris\n",
    "from sklearn.ensemble import AdaBoostClassifier\n",
    "\n",
    "X, y = load_iris(return_X_y=True)\n",
    "clf = AdaBoostClassifier(n_estimators=100)\n",
    "scores = cross_val_score(clf, X, y, cv=5)\n",
    "scores.mean()"
   ]
  },
  {
   "cell_type": "markdown",
   "metadata": {},
   "source": [
    "#### 3. 5 hyperparâmetros AdaBoost"
   ]
  },
  {
   "cell_type": "markdown",
   "metadata": {},
   "source": [
    "- N_estimators: número de weak learners (stumps base);\n",
    "- Learning rate: contribuição do(s) weak learner(s) na combinação final;\n",
    "- Estimator: especificar o weak learner de interesse;\n",
    "- Max_depth: profundidade do stump\n",
    "- Min_samples_leaf: número mínimo de folhas do stump"
   ]
  }
 ],
 "metadata": {
  "kernelspec": {
   "display_name": "Python 3 (ipykernel)",
   "language": "python",
   "name": "python3"
  },
  "language_info": {
   "codemirror_mode": {
    "name": "ipython",
    "version": 3
   },
   "file_extension": ".py",
   "mimetype": "text/x-python",
   "name": "python",
   "nbconvert_exporter": "python",
   "pygments_lexer": "ipython3",
   "version": "3.9.13"
  },
  "toc": {
   "base_numbering": 1,
   "nav_menu": {},
   "number_sections": false,
   "sideBar": true,
   "skip_h1_title": true,
   "title_cell": "Índice",
   "title_sidebar": "Conteúdo",
   "toc_cell": false,
   "toc_position": {},
   "toc_section_display": true,
   "toc_window_display": false
  },
  "varInspector": {
   "cols": {
    "lenName": 16,
    "lenType": 16,
    "lenVar": 40
   },
   "kernels_config": {
    "python": {
     "delete_cmd_postfix": "",
     "delete_cmd_prefix": "del ",
     "library": "var_list.py",
     "varRefreshCmd": "print(var_dic_list())"
    },
    "r": {
     "delete_cmd_postfix": ") ",
     "delete_cmd_prefix": "rm(",
     "library": "var_list.r",
     "varRefreshCmd": "cat(var_dic_list()) "
    }
   },
   "types_to_exclude": [
    "module",
    "function",
    "builtin_function_or_method",
    "instance",
    "_Feature"
   ],
   "window_display": false
  }
 },
 "nbformat": 4,
 "nbformat_minor": 4
}
