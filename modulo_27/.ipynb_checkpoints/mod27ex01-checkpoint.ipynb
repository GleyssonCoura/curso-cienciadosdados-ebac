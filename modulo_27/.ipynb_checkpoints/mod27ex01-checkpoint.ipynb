{
 "cells": [
  {
   "cell_type": "markdown",
   "metadata": {},
   "source": [
    "![Cabec%CC%A7alho_notebook.png](cabecalho_notebook.png)"
   ]
  },
  {
   "cell_type": "markdown",
   "metadata": {},
   "source": [
    "# PCA - Tarefa 01: *HAR* com PCA\n",
    "\n",
    "Vamos trabalhar com a base da demonstração feita em aula, mas vamos explorar um pouco melhor como é o desempenho da árvore variando o número de componentes principais."
   ]
  },
  {
   "cell_type": "code",
   "execution_count": 8,
   "metadata": {},
   "outputs": [],
   "source": [
    "import pandas as pd\n",
    "\n",
    "from sklearn.tree import DecisionTreeClassifier\n",
    "\n",
    "from sklearn.decomposition import PCA\n",
    "from sklearn.metrics import accuracy_score\n",
    "from sklearn.model_selection import cross_val_score\n",
    "from sklearn.model_selection import GridSearchCV\n",
    "\n",
    "filename_features = r\"C:\\Users\\Acer\\Documents\\Ciência dos Dados\\curso-cienciadosdados-ebac\\modulo_27\\features.txt\"\n",
    "filename_labels = r\"C:\\Users\\Acer\\Documents\\Ciência dos Dados\\curso-cienciadosdados-ebac\\modulo_27\\activity_labels.txt\"\n",
    "\n",
    "filename_subtrain = r\"C:\\Users\\Acer\\Documents\\Ciência dos Dados\\curso-cienciadosdados-ebac\\modulo_27\\train\\subject_train.txt\"\n",
    "filename_xtrain = r\"C:\\Users\\Acer\\Documents\\Ciência dos Dados\\curso-cienciadosdados-ebac\\modulo_27\\train\\X_train.txt\"\n",
    "filename_ytrain = r\"C:\\Users\\Acer\\Documents\\Ciência dos Dados\\curso-cienciadosdados-ebac\\modulo_27\\train\\y_train.txt\"\n",
    "\n",
    "filename_subtest = r\"C:\\Users\\Acer\\Documents\\Ciência dos Dados\\curso-cienciadosdados-ebac\\modulo_27\\test\\subject_test.txt\"\n",
    "ffilename_xtest = r\"C:\\Users\\Acer\\Documents\\Ciência dos Dados\\curso-cienciadosdados-ebac\\modulo_27\\test\\X_test.txt\"\n",
    "filename_ytest = r\"C:\\Users\\Acer\\Documents\\Ciência dos Dados\\curso-cienciadosdados-ebac\\modulo_27\\test\\y_test.txt\"\n",
    "\n",
    "features = pd.read_csv(filename_features, header=None, names=['nome_var'], sep=\"#\").squeeze(\"columns\")\n",
    "labels = pd.read_csv(filename_labels, delim_whitespace=True, header=None, names=['cod_label', 'label'])\n",
    "\n",
    "subject_train = pd.read_csv(filename_subtrain, header=None, names=['subject_id']).squeeze(\"columns\")\n",
    "X_train = pd.read_csv(filename_xtrain, delim_whitespace=True, header=None, names=features.tolist())\n",
    "y_train = pd.read_csv(filename_ytrain, header=None, names=['cod_label'])\n",
    "\n",
    "subject_test = pd.read_csv(filename_subtest, header=None, names=['subject_id']).squeeze(\"columns\")\n",
    "X_test = pd.read_csv(ffilename_xtest, delim_whitespace=True, header=None, names=features.tolist())\n",
    "y_test = pd.read_csv(filename_ytest, header=None, names=['cod_label'])"
   ]
  },
  {
   "cell_type": "markdown",
   "metadata": {},
   "source": [
    "## Árvore de decisão\n",
    "\n",
    "Rode uma árvore de decisão com todas as variáveis, utilizando o ```ccp_alpha=0.001```. Avalie a acurácia nas bases de treinamento e teste. Avalie o tempo de processamento."
   ]
  },
  {
   "cell_type": "code",
   "execution_count": 22,
   "metadata": {},
   "outputs": [
    {
     "name": "stdout",
     "output_type": "stream",
     "text": [
      "Acurácia da árvore na base de treino:97.6\n",
      "Acurácia da árvore na base de teste: 87.9\n",
      "Wall time: 4.08 s\n"
     ]
    }
   ],
   "source": [
    "%%time\n",
    "clf = DecisionTreeClassifier(random_state=2360873, ccp_alpha=0.001).fit(X_train, y_train)\n",
    "train_score = clf.score(X_train, y_train)\n",
    "test_score = clf.score(X_test, y_test)\n",
    "\n",
    "print(f'Acurácia da árvore na base de treino:{train_score*100:.1f}')\n",
    "print(f'Acurácia da árvore na base de teste: {test_score*100:.1f}')"
   ]
  },
  {
   "cell_type": "markdown",
   "metadata": {},
   "source": [
    "## Árvore com PCA\n",
    "\n",
    "Faça uma análise de componemtes principais das variáveis originais. Utilize apenas uma componente. Faça uma árvore de decisão com esta componente como variável explicativa.\n",
    "\n",
    "- Avalie a acurácia nas bases de treinamento e teste\n",
    "- Avalie o tempo de processamento"
   ]
  },
  {
   "cell_type": "code",
   "execution_count": 23,
   "metadata": {},
   "outputs": [
    {
     "name": "stdout",
     "output_type": "stream",
     "text": [
      "Acurácia da árvore na base de treino:100.0\n",
      "Acurácia da árvore na base de teste: 41.0\n",
      "Wall time: 224 ms\n"
     ]
    }
   ],
   "source": [
    "%%time\n",
    "prcomp = PCA(n_components=1).fit(X_train)\n",
    "\n",
    "pc_treino = prcomp.transform(X_train)\n",
    "pc_teste  = prcomp.transform(X_test)\n",
    "\n",
    "pc_train = pd.DataFrame(pc_treino).rename(columns={0:'cp1'})\n",
    "pc_test  = pd.DataFrame(pc_teste).rename(columns={0:'cp1'})\n",
    "\n",
    "clf = DecisionTreeClassifier(random_state=1234).fit(pc_train, y_train)\n",
    "\n",
    "train_scores = clf.score(pc_train, y_train)\n",
    "test_scores = clf.score(pc_test, y_test)\n",
    "\n",
    "print(f'Acurácia da árvore na base de treino:{train_scores*100:.1f}')\n",
    "print(f'Acurácia da árvore na base de teste: {test_scores*100:.1f}')"
   ]
  },
  {
   "cell_type": "markdown",
   "metadata": {},
   "source": [
    "## Testando o número de componentes\n",
    "\n",
    "Com base no código acima, teste a árvore de classificação com pelo menos as seguintes possibilidades de quantidades de componentes: ```[1, 2, 5, 10, 50]```. Avalie para cada uma delas:\n",
    "\n",
    "- Acurácia nas bases de treino e teste\n",
    "- Tempo de processamento\n"
   ]
  },
  {
   "cell_type": "code",
   "execution_count": 32,
   "metadata": {},
   "outputs": [
    {
     "name": "stdout",
     "output_type": "stream",
     "text": [
      "Com 1 componente(s), a acurácia da árvore na base de treino:100.0\n",
      "Com 1 componente(s), a acurácia da árvore na base de teste: 41.0\n",
      "\n",
      "Com 2 componente(s), a acurácia da árvore na base de treino:100.0\n",
      "Com 2 componente(s), a acurácia da árvore na base de teste: 51.7\n",
      "\n",
      "Com 5 componente(s), a acurácia da árvore na base de treino:100.0\n",
      "Com 5 componente(s), a acurácia da árvore na base de teste: 75.3\n",
      "\n",
      "Com 10 componente(s), a acurácia da árvore na base de treino:100.0\n",
      "Com 10 componente(s), a acurácia da árvore na base de teste: 78.9\n",
      "\n",
      "Com 50 componente(s), a acurácia da árvore na base de treino:100.0\n",
      "Com 50 componente(s), a acurácia da árvore na base de teste: 80.5\n",
      "\n",
      "Wall time: 1.68 s\n"
     ]
    }
   ],
   "source": [
    "%%time\n",
    "def avalia_pca(n: int) -> float:\n",
    "    prcomp = PCA(n_components=n).fit(X_train)\n",
    "\n",
    "    pc_treino = prcomp.transform(X_train)\n",
    "    pc_teste  = prcomp.transform(X_test)\n",
    "\n",
    "    colunas = ['cp'+str(x+1) for x in list(range(n))]\n",
    "    pc_train = pd.DataFrame(pc_treino, columns = colunas)\n",
    "    pc_test  = pd.DataFrame(pc_teste, columns = colunas)\n",
    "\n",
    "    clf = DecisionTreeClassifier(random_state=1234).fit(pc_train, y_train)\n",
    "\n",
    "    train_scores = clf.score(pc_train, y_train)\n",
    "    test_scores = clf.score(pc_test, y_test)\n",
    "\n",
    "    return train_scores, test_scores\n",
    "\n",
    "componentes = [1, 2, 5, 10, 50]\n",
    "\n",
    "for i in range(0,len(componentes)):\n",
    "    train_scores, test_scores = avalia_pca(componentes[i])\n",
    "    print(f'Com {componentes[i]} componente(s), a acurácia da árvore na base de treino:{train_scores*100:.1f}')\n",
    "    print(f'Com {componentes[i]} componente(s), a acurácia da árvore na base de teste: {test_scores*100:.1f}')  \n",
    "    print('')"
   ]
  },
  {
   "cell_type": "markdown",
   "metadata": {},
   "source": [
    "## Conclua\n",
    "\n",
    "- O que aconteceu com a acurácia?\n",
    "- O que aconteceu com o tempo de processamento?"
   ]
  },
  {
   "cell_type": "markdown",
   "metadata": {},
   "source": [
    "A acurácia aumentou como esperado, afinal estamos aumentando a quantidade de variáveis que explicam o modelo, mas em contrapartida o tempo de execução também se elevou conforme mais componentes foram inseridas."
   ]
  }
 ],
 "metadata": {
  "kernelspec": {
   "display_name": "Python 3 (ipykernel)",
   "language": "python",
   "name": "python3"
  },
  "language_info": {
   "codemirror_mode": {
    "name": "ipython",
    "version": 3
   },
   "file_extension": ".py",
   "mimetype": "text/x-python",
   "name": "python",
   "nbconvert_exporter": "python",
   "pygments_lexer": "ipython3",
   "version": "3.9.13"
  },
  "toc": {
   "base_numbering": 1,
   "nav_menu": {},
   "number_sections": true,
   "sideBar": true,
   "skip_h1_title": true,
   "title_cell": "Índice",
   "title_sidebar": "Conteúdo",
   "toc_cell": false,
   "toc_position": {},
   "toc_section_display": true,
   "toc_window_display": false
  },
  "varInspector": {
   "cols": {
    "lenName": 16,
    "lenType": 16,
    "lenVar": 40
   },
   "kernels_config": {
    "python": {
     "delete_cmd_postfix": "",
     "delete_cmd_prefix": "del ",
     "library": "var_list.py",
     "varRefreshCmd": "print(var_dic_list())"
    },
    "r": {
     "delete_cmd_postfix": ") ",
     "delete_cmd_prefix": "rm(",
     "library": "var_list.r",
     "varRefreshCmd": "cat(var_dic_list()) "
    }
   },
   "types_to_exclude": [
    "module",
    "function",
    "builtin_function_or_method",
    "instance",
    "_Feature"
   ],
   "window_display": false
  }
 },
 "nbformat": 4,
 "nbformat_minor": 4
}
